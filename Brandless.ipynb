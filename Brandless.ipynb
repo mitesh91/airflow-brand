{
 "cells": [
  {
   "cell_type": "code",
   "execution_count": 4,
   "metadata": {
    "collapsed": false
   },
   "outputs": [
    {
     "name": "stdout",
     "output_type": "stream",
     "text": [
      "https://api.edamam.com/search?q=pasta&to=200&from=0&app_id=b02abb27&app_key=4e3f2c74d5ba8fb262a25095b6bc6d3f\n",
      "<type 'dict'>\n",
      "<type 'list'>\n"
     ]
    }
   ],
   "source": [
    "import requests\n",
    "import re\n",
    "from collections import defaultdict\n",
    "import csv\n",
    "import pandas as pd\n",
    "\n",
    "base_url = 'https://api.edamam.com/search'\n",
    "headers = {'app_key' : '4e3f2c74d5ba8fb262a25095b6bc6d3f',\n",
    "           'app_id' : 'b02abb27',\n",
    "           'q' :'pasta',\n",
    "          'from': 0,\n",
    "          'to': 200}\n",
    "\n",
    "\n",
    "r = requests.get(base_url, params=headers)\n",
    "\n",
    "# r = requests.get(base_url, params=headers, stream=True)\n",
    "print(r.url)\n",
    "response = r.json()\n",
    "\n",
    "print(type(response))\n",
    "items = response['hits']\n",
    "print(type(items))\n",
    "\n",
    "index = ['uri', 'label', 'source', 'image', 'url', 'diet_labels', 'health_labels', 'no_of_ingridients', 'calories',\n",
    "        'total_weight', 'total_time']\n",
    "\n",
    "data = []\n",
    "for i in items:\n",
    "\n",
    "    recipe = i['recipe']\n",
    "    label  = recipe['label'].encode(\"utf-8\")\n",
    "    uri    = re.findall(r\"recipe_([A-Za-z0-9]+)\", recipe['uri'].encode(\"utf-8\"))[0]\n",
    "    image  = recipe['image'].encode(\"utf-8\")\n",
    "    url    = recipe['url'].encode(\"utf-8\")\n",
    "    \n",
    "    source        = recipe['source'].encode(\"utf-8\")\n",
    "    diet_labels   = recipe['dietLabels']\n",
    "    health_labels = recipe['healthLabels']\n",
    "    no_of_ingridients = len(recipe['ingredientLines'])\n",
    "    calories     = recipe['calories']\n",
    "    total_weight = recipe['totalWeight']\n",
    "    total_time   = recipe['totalTime']\n",
    "    \n",
    "    data.append([uri, label, source, image, url, diet_labels, health_labels, no_of_ingridients, calories, total_weight, total_time])\n",
    "\n",
    "\n",
    "\n",
    "\n",
    "dfs = pd.DataFrame(data, index=None, columns=index)\n",
    "\n",
    "\n",
    "dfs.to_csv('/Users/Assasin/Desktop/files.csv', index= False, sep=',', quotechar='\"', encoding='utf-8', quoting=csv.QUOTE_NONNUMERIC)\n",
    "\n",
    "# with open('/Users/Assasin/Desktop/file.txt', 'wb') as fd:\n",
    "#     for chunk in r.iter_content(chunk_size=128):\n",
    "#         fd.write(chunk)\n",
    "\n"
   ]
  },
  {
   "cell_type": "code",
   "execution_count": 3,
   "metadata": {
    "collapsed": false
   },
   "outputs": [
    {
     "name": "stdout",
     "output_type": "stream",
     "text": [
      "https://api.edamam.com/search?q=pasta&to=200&from=0&app_id=b02abb27&app_key=4e3f2c74d5ba8fb262a25095b6bc6d3f\n",
      "<type 'dict'>\n",
      "<type 'list'>\n"
     ]
    }
   ],
   "source": [
    "# health labels\n",
    "import requests\n",
    "import re\n",
    "from collections import defaultdict\n",
    "import csv\n",
    "import pandas as pd\n",
    "\n",
    "base_url = 'https://api.edamam.com/search'\n",
    "headers = {'app_key' : '4e3f2c74d5ba8fb262a25095b6bc6d3f',\n",
    "           'app_id' : 'b02abb27',\n",
    "           'q' :'pasta',\n",
    "          'from': 0,\n",
    "          'to': 200}\n",
    "\n",
    "\n",
    "r = requests.get(base_url, params=headers)\n",
    "# r = requests.get(base_url, params=headers, stream=True)\n",
    "print(r.url)\n",
    "response = r.json()\n",
    "\n",
    "print(type(response))\n",
    "items = response['hits']\n",
    "print(type(items))\n",
    "\n",
    "index = ['uri', 'health_label']\n",
    "\n",
    "data = []\n",
    "for i in items:\n",
    "\n",
    "    recipe = i['recipe']\n",
    "    label  = recipe['label'].encode(\"utf-8\")\n",
    "    uri    = re.findall(r\"recipe_([A-Za-z0-9]+)\", recipe['uri'].encode(\"utf-8\"))[0]\n",
    "    health_labels = recipe['healthLabels']\n",
    "    \n",
    "    for hl in health_labels:\n",
    "        \n",
    "        data.append([uri, hl])\n",
    "\n",
    "\n",
    "# print(data)\n",
    "\n",
    "dfs = pd.DataFrame(data, index=None, columns=index)\n",
    "# print(dfs)\n",
    "\n",
    "dfs.to_csv('/Users/Assasin/Desktop/hl.csv', index= False, sep=',', quotechar='\"', encoding='utf-8', quoting=csv.QUOTE_NONNUMERIC)\n",
    "\n",
    "\n"
   ]
  },
  {
   "cell_type": "code",
   "execution_count": 107,
   "metadata": {
    "collapsed": false
   },
   "outputs": [
    {
     "name": "stdout",
     "output_type": "stream",
     "text": [
      "https://api.edamam.com/search?q=pasta&to=200&from=0&app_id=b02abb27&app_key=4e3f2c74d5ba8fb262a25095b6bc6d3f\n",
      "<type 'dict'>\n",
      "<type 'list'>\n"
     ]
    }
   ],
   "source": [
    "# health labels\n",
    "import requests\n",
    "import re\n",
    "from collections import defaultdict\n",
    "import csv\n",
    "\n",
    "\n",
    "base_url = 'https://api.edamam.com/search'\n",
    "headers = {'app_key' : '4e3f2c74d5ba8fb262a25095b6bc6d3f',\n",
    "           'app_id' : 'b02abb27',\n",
    "           'q' :'pasta',\n",
    "          'from': 0,\n",
    "          'to': 200}\n",
    "\n",
    "\n",
    "r = requests.get(base_url, params=headers)\n",
    "# r = requests.get(base_url, params=headers, stream=True)\n",
    "print(r.url)\n",
    "response = r.json()\n",
    "\n",
    "print(type(response))\n",
    "items = response['hits']\n",
    "print(type(items))\n",
    "\n",
    "index = ['uri', 'diet_label']\n",
    "\n",
    "data = []\n",
    "for i in items:\n",
    "\n",
    "    recipe = i['recipe']\n",
    "    label  = recipe['label'].encode(\"utf-8\")\n",
    "    uri    = re.findall(r\"recipe_([A-Za-z0-9]+)\", recipe['uri'].encode(\"utf-8\"))[0]\n",
    "    diet_labels = recipe['dietLabels']\n",
    "    \n",
    "    for hl in diet_labels:\n",
    "        \n",
    "        data.append([uri, hl])\n",
    "\n",
    "\n",
    "# print(data)\n",
    "\n",
    "dfs = pd.DataFrame(data, index=None, columns=index)\n",
    "# print(dfs)\n",
    "\n",
    "dfs.to_csv('/Users/Assasin/Desktop/dl.csv', index= False, sep=',', quotechar='\"', encoding='utf-8', quoting=csv.QUOTE_NONNUMERIC)"
   ]
  },
  {
   "cell_type": "code",
   "execution_count": 5,
   "metadata": {
    "collapsed": true
   },
   "outputs": [],
   "source": [
    "from datetime import datetime"
   ]
  },
  {
   "cell_type": "code",
   "execution_count": 6,
   "metadata": {
    "collapsed": true
   },
   "outputs": [],
   "source": [
    "now = datetime.now()"
   ]
  },
  {
   "cell_type": "code",
   "execution_count": 7,
   "metadata": {
    "collapsed": false
   },
   "outputs": [
    {
     "data": {
      "text/plain": [
       "datetime.datetime(2018, 10, 13, 13, 10, 3, 947849)"
      ]
     },
     "execution_count": 7,
     "metadata": {},
     "output_type": "execute_result"
    }
   ],
   "source": [
    "now"
   ]
  },
  {
   "cell_type": "code",
   "execution_count": 13,
   "metadata": {
    "collapsed": false
   },
   "outputs": [
    {
     "data": {
      "text/plain": [
       "'2018_10_13'"
      ]
     },
     "execution_count": 13,
     "metadata": {},
     "output_type": "execute_result"
    }
   ],
   "source": [
    "now = datetime.now()\n",
    "datetime.strftime(now,'%Y_%m_%d')"
   ]
  },
  {
   "cell_type": "code",
   "execution_count": null,
   "metadata": {
    "collapsed": true
   },
   "outputs": [],
   "source": []
  }
 ],
 "metadata": {
  "anaconda-cloud": {},
  "kernelspec": {
   "display_name": "Python [Root]",
   "language": "python",
   "name": "Python [Root]"
  },
  "language_info": {
   "codemirror_mode": {
    "name": "ipython",
    "version": 2
   },
   "file_extension": ".py",
   "mimetype": "text/x-python",
   "name": "python",
   "nbconvert_exporter": "python",
   "pygments_lexer": "ipython2",
   "version": "2.7.13"
  }
 },
 "nbformat": 4,
 "nbformat_minor": 0
}
